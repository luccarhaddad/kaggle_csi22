{
 "cells": [
  {
   "cell_type": "markdown",
   "metadata": {},
   "source": [
    "# Exame de CSI-22 (Programação Orientada a Objetos)\n",
    "### Grupo: André Diogo, Antônio Gustavo e Lucca Haddad"
   ]
  },
  {
   "cell_type": "markdown",
   "metadata": {},
   "source": [
    "### Parte 1: Importação de Bibliotecas/Dados"
   ]
  },
  {
   "cell_type": "code",
   "execution_count": 61,
   "metadata": {},
   "outputs": [],
   "source": [
    "import numpy as np\n",
    "import pandas as pd\n",
    "\n",
    "data = pd.read_csv('./digit-recognizer/train.csv')"
   ]
  },
  {
   "cell_type": "markdown",
   "metadata": {},
   "source": [
    "### Parte 2: Seleção de dados para treino/teste"
   ]
  },
  {
   "cell_type": "markdown",
   "metadata": {
    "vscode": {
     "languageId": "latex"
    }
   },
   "source": [
    "#### Mudança da estrutura de Pandas para Numpy\n",
    "\n",
    "#### Aquisição das dimensões\n",
    "\n",
    "#### Redistribuição dos dados"
   ]
  },
  {
   "cell_type": "code",
   "execution_count": 62,
   "metadata": {},
   "outputs": [],
   "source": [
    "data = np.array(data)\n",
    "m, n = data.shape\n",
    "np.random.shuffle(data)"
   ]
  },
  {
   "cell_type": "markdown",
   "metadata": {},
   "source": [
    "#### Separação dos dados de teste\n",
    "\n",
    "#### Normalização do teste"
   ]
  },
  {
   "cell_type": "code",
   "execution_count": null,
   "metadata": {},
   "outputs": [],
   "source": [
    "\n",
    "data_test = data[0:1000].T\n",
    "Y_test = data_test[0]\n",
    "X_test = data_test[1:n]\n",
    "X_test = X_test/255\n"
   ]
  },
  {
   "cell_type": "markdown",
   "metadata": {},
   "source": [
    "#### Separação dos dados de treino\n",
    "\n",
    "#### Normalização do treino"
   ]
  },
  {
   "cell_type": "code",
   "execution_count": null,
   "metadata": {},
   "outputs": [],
   "source": [
    "\n",
    "data_train = data[1000:m].T\n",
    "Y_train = data_train[0]\n",
    "X_train = data_train[1:n]\n",
    "X_train = X_train/255"
   ]
  },
  {
   "cell_type": "markdown",
   "metadata": {},
   "source": [
    "#### Pré-definição do lambda de regressão"
   ]
  },
  {
   "cell_type": "code",
   "execution_count": null,
   "metadata": {},
   "outputs": [],
   "source": [
    "lambda_reg = 0.5"
   ]
  },
  {
   "cell_type": "markdown",
   "metadata": {},
   "source": [
    "### Parte 3: Definição de funções da Rede Neural"
   ]
  },
  {
   "cell_type": "markdown",
   "metadata": {},
   "source": [
    "#### Criação inicial dos vetores de pesos e de vieses com valores randômicos"
   ]
  },
  {
   "cell_type": "code",
   "execution_count": 63,
   "metadata": {},
   "outputs": [],
   "source": [
    "def initializeParameters():\n",
    "    W1 = np.random.randn(50, 784) * np.sqrt(2/784)\n",
    "    b1 = np.zeros((50, 1))\n",
    "    W2 = np.random.randn(10, 50) * np.sqrt(2/50)\n",
    "    b2 = np.zeros((10, 1))\n",
    "    return W1, b1, W2, b2"
   ]
  },
  {
   "cell_type": "markdown",
   "metadata": {},
   "source": [
    "#### Definição da função sigmodal de ativação"
   ]
  },
  {
   "cell_type": "code",
   "execution_count": null,
   "metadata": {},
   "outputs": [],
   "source": [
    "def sigmoid(Z):\n",
    "    return 1 / (1 + np.exp(-Z))"
   ]
  },
  {
   "cell_type": "markdown",
   "metadata": {},
   "source": [
    "#### Definição da função softmax (exponenciais normalizadas)"
   ]
  },
  {
   "cell_type": "code",
   "execution_count": null,
   "metadata": {},
   "outputs": [],
   "source": [
    "def softmax(Z):\n",
    "    k = np.exp(Z) / sum(np.exp(Z))\n",
    "    return k"
   ]
  },
  {
   "cell_type": "markdown",
   "metadata": {},
   "source": [
    "#### Definição da função de Forward Propagation"
   ]
  },
  {
   "cell_type": "code",
   "execution_count": null,
   "metadata": {},
   "outputs": [],
   "source": [
    "def forwardPropagation(W1, b1, W2, b2, X):\n",
    "    Z1 = W1.dot(X) + b1\n",
    "    A1 = sigmoid(Z1)\n",
    "    Z2 = W2.dot(A1) + b2\n",
    "    A2 = softmax(Z2)\n",
    "    return Z1, A1, Z2, A2"
   ]
  },
  {
   "cell_type": "markdown",
   "metadata": {},
   "source": [
    "#### Derivada da função sigmodal"
   ]
  },
  {
   "cell_type": "code",
   "execution_count": null,
   "metadata": {},
   "outputs": [],
   "source": [
    "def sigmoidDerivative(Z):\n",
    "    sigmoid_Z = sigmoid(Z)\n",
    "    return sigmoid_Z * (1 - sigmoid_Z)"
   ]
  },
  {
   "cell_type": "markdown",
   "metadata": {},
   "source": [
    "#### Função para transformação de vetor em One Hot Encoding"
   ]
  },
  {
   "cell_type": "code",
   "execution_count": null,
   "metadata": {},
   "outputs": [],
   "source": [
    "def oneHotEncoding(Y):\n",
    "    oneHotY = np.zeros((Y.size, Y.max() + 1))\n",
    "    oneHotY[np.arange(Y.size), Y] = 1\n",
    "    oneHotY = oneHotY.T\n",
    "    return oneHotY"
   ]
  },
  {
   "cell_type": "markdown",
   "metadata": {},
   "source": [
    "#### Backward Propagation para retransmissão da informação para camadas anteriores"
   ]
  },
  {
   "cell_type": "code",
   "execution_count": null,
   "metadata": {},
   "outputs": [],
   "source": [
    "def backwardPropagation(Z1, A1, Z2, A2, W1, W2, X, Y):\n",
    "    oneHotY = oneHotEncoding(Y)\n",
    "    m = X.shape[1]\n",
    "    dZ2 = A2 - oneHotY\n",
    "    dW2 = (1 / m) * dZ2.dot(A1.T) + (lambda_reg / m) * W2\n",
    "    db2 = (1 / m) * np.sum(dZ2, axis=1, keepdims=True)\n",
    "    dZ1 = W2.T.dot(dZ2) * sigmoidDerivative(Z1)\n",
    "    dW1 = (1 / m) * dZ1.dot(X.T) + (lambda_reg / m) * W1\n",
    "    db1 = (1 / m) * np.sum(dZ1, axis=1, keepdims=True)\n",
    "    return dW1, db1, dW2, db2"
   ]
  },
  {
   "cell_type": "markdown",
   "metadata": {},
   "source": [
    "#### Atualização de pesos e de vieses da rede neural"
   ]
  },
  {
   "cell_type": "code",
   "execution_count": null,
   "metadata": {},
   "outputs": [],
   "source": [
    "def updateParameters(W1, b1, W2, b2, dW1, db1, dW2, db2, alpha):\n",
    "    W1 = W1 - alpha * dW1\n",
    "    b1 = b1 - alpha * db1    \n",
    "    W2 = W2 - alpha * dW2  \n",
    "    b2 = b2 - alpha * db2    \n",
    "    return W1, b1, W2, b2"
   ]
  },
  {
   "cell_type": "markdown",
   "metadata": {},
   "source": [
    "#### Funções de aquisição do resultado da predição e de determinação de acurácia"
   ]
  },
  {
   "cell_type": "code",
   "execution_count": 64,
   "metadata": {},
   "outputs": [],
   "source": [
    "def getPredictions(A2):\n",
    "    return np.argmax(A2, 0)\n",
    "\n",
    "def getAccuracy(predictions, Y):\n",
    "    return np.sum(predictions == Y)/Y.size"
   ]
  },
  {
   "cell_type": "markdown",
   "metadata": {},
   "source": [
    "#### Função para treinamento iterativo do modelo por minimização de perda e retransmissão de informação"
   ]
  },
  {
   "cell_type": "code",
   "execution_count": null,
   "metadata": {},
   "outputs": [],
   "source": [
    "def gradientDescent(X, Y, alpha, iterations, lambda_reg):\n",
    "    W1, b1, W2, b2 = initializeParameters()\n",
    "    for i in range(iterations):\n",
    "        Z1, A1, Z2, A2 = forwardPropagation(W1, b1, W2, b2, X)\n",
    "        dW1, db1, dW2, db2 = backwardPropagation(Z1, A1, Z2, A2, W1, W2, X, Y)\n",
    "        W1, b1, W2, b2 = updateParameters(W1, b1, W2, b2, dW1, db1, dW2, db2, alpha)\n",
    "        if (i % 50 == 0):\n",
    "            print('Iteration:', i)\n",
    "            predictions = getPredictions(A2)\n",
    "            print('Accuracy:', getAccuracy(predictions, Y))\n",
    "    return W1, b1, W2, b2"
   ]
  },
  {
   "cell_type": "markdown",
   "metadata": {},
   "source": [
    "#### Treinamento da Rede Neural"
   ]
  },
  {
   "cell_type": "code",
   "execution_count": 65,
   "metadata": {},
   "outputs": [
    {
     "name": "stdout",
     "output_type": "stream",
     "text": [
      "Iteration: 0\n",
      "Accuracy: 0.09517073170731707\n",
      "Iteration: 50\n",
      "Accuracy: 0.8359268292682926\n",
      "Iteration: 100\n",
      "Accuracy: 0.8738536585365854\n",
      "Iteration: 150\n",
      "Accuracy: 0.8887073170731707\n",
      "Iteration: 200\n",
      "Accuracy: 0.8964878048780488\n",
      "Iteration: 250\n",
      "Accuracy: 0.9020487804878049\n",
      "Iteration: 300\n",
      "Accuracy: 0.9068780487804878\n",
      "Iteration: 350\n",
      "Accuracy: 0.9104634146341464\n",
      "Iteration: 400\n",
      "Accuracy: 0.9135121951219513\n",
      "Iteration: 450\n",
      "Accuracy: 0.9163902439024391\n",
      "Iteration: 500\n",
      "Accuracy: 0.9187560975609756\n",
      "Iteration: 550\n",
      "Accuracy: 0.9210487804878049\n",
      "Iteration: 600\n",
      "Accuracy: 0.9229024390243903\n",
      "Iteration: 650\n",
      "Accuracy: 0.9246585365853659\n",
      "Iteration: 700\n",
      "Accuracy: 0.9269024390243903\n",
      "Iteration: 750\n",
      "Accuracy: 0.9288536585365854\n",
      "Iteration: 800\n",
      "Accuracy: 0.9308048780487805\n",
      "Iteration: 850\n",
      "Accuracy: 0.9323414634146342\n",
      "Iteration: 900\n",
      "Accuracy: 0.9337073170731708\n",
      "Iteration: 950\n",
      "Accuracy: 0.9350975609756098\n"
     ]
    }
   ],
   "source": [
    "W1, b1, W2, b2 = gradientDescent(X_train, Y_train, 0.5, 1000, lambda_reg)"
   ]
  },
  {
   "cell_type": "markdown",
   "metadata": {},
   "source": [
    "#### Função para predição de um vetor desconhecido e validação com o vetor de testes"
   ]
  },
  {
   "cell_type": "code",
   "execution_count": 66,
   "metadata": {},
   "outputs": [
    {
     "data": {
      "text/plain": [
       "0.937"
      ]
     },
     "execution_count": 66,
     "metadata": {},
     "output_type": "execute_result"
    }
   ],
   "source": [
    "def makePredictions(X, W1, b1, W2, b2):\n",
    "    _, _, _, A2 = forwardPropagation(W1, b1, W2, b2, X)\n",
    "    predictions = getPredictions(A2)\n",
    "    return predictions\n",
    "\n",
    "predicted = makePredictions(X_test, W1, b1, W2, b2)\n",
    "getAccuracy(predicted, Y_test)"
   ]
  },
  {
   "cell_type": "markdown",
   "metadata": {},
   "source": [
    "#### Importação dos dados para predição"
   ]
  },
  {
   "cell_type": "code",
   "execution_count": 67,
   "metadata": {},
   "outputs": [],
   "source": [
    "sub = pd.read_csv('./digit-recognizer/test.csv')\n",
    "sub = np.array(sub)\n",
    "sub = sub.T\n",
    "sub = sub/255"
   ]
  },
  {
   "cell_type": "markdown",
   "metadata": {},
   "source": [
    "#### Transformação para CSV e submissão"
   ]
  },
  {
   "cell_type": "code",
   "execution_count": 68,
   "metadata": {},
   "outputs": [],
   "source": [
    "pred_sub = makePredictions(sub, W1, b1, W2, b2)\n",
    "submission = pd.read_csv('./digit-recognizer/sample_submission.csv')\n",
    "submission['Label'] = pred_sub\n",
    "submission.to_csv('pred.csv', index=False)"
   ]
  }
 ],
 "metadata": {
  "kernelspec": {
   "display_name": "Python 3 (ipykernel)",
   "language": "python",
   "name": "python3"
  },
  "language_info": {
   "codemirror_mode": {
    "name": "ipython",
    "version": 3
   },
   "file_extension": ".py",
   "mimetype": "text/x-python",
   "name": "python",
   "nbconvert_exporter": "python",
   "pygments_lexer": "ipython3",
   "version": "3.9.13"
  },
  "orig_nbformat": 4
 },
 "nbformat": 4,
 "nbformat_minor": 2
}
